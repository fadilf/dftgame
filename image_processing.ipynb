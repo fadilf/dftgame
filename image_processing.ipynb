{
 "cells": [
  {
   "cell_type": "code",
   "execution_count": 2,
   "metadata": {},
   "outputs": [],
   "source": [
    "import numpy as np\n",
    "from PIL import Image\n",
    "import os"
   ]
  },
  {
   "cell_type": "code",
   "execution_count": 3,
   "metadata": {},
   "outputs": [],
   "source": [
    "originals_dir = \"./originals/\"\n",
    "spacials_dir = \"./spacials/\"\n",
    "freqs_dir = \"./freqs/\""
   ]
  },
  {
   "cell_type": "code",
   "execution_count": 4,
   "metadata": {},
   "outputs": [],
   "source": [
    "images = []\n",
    "square_side = 360\n",
    "square_dimensions = np.array([square_side, square_side])\n",
    "\n",
    "for idx, filename in enumerate(os.listdir(originals_dir)):\n",
    "    if not filename.endswith(\".jpg\"):\n",
    "        continue\n",
    "\n",
    "    # Pull image\n",
    "    original_path = os.path.join(originals_dir, filename)\n",
    "    image = Image.open(original_path)\n",
    "    dimensions = np.array(np.array(image).shape[:2])\n",
    "\n",
    "    # Rescale image\n",
    "    min_dimension = min(dimensions)\n",
    "    rescale_factor = square_side / min_dimension\n",
    "    scaled_dimensions = np.flip((np.array(dimensions) * rescale_factor).astype('int16'))\n",
    "    rescaled = image.resize(scaled_dimensions)\n",
    "\n",
    "    # Crop image\n",
    "    offset = ((scaled_dimensions - square_dimensions) / 2).astype('int16')\n",
    "    cropped_dimensions = np.concatenate([offset, square_dimensions + offset])\n",
    "    cropped = rescaled.crop(cropped_dimensions)\n",
    "\n",
    "    # Save transformed image\n",
    "    spacial_path = os.path.join(spacials_dir, f\"{idx}.jpg\")\n",
    "    cropped.save(spacial_path)\n",
    "\n",
    "    # Move to frequency domain\n",
    "    cropped_grey = np.array(cropped.convert('L'))\n",
    "    freq_array = np.fft.fftshift(np.fft.fft2(cropped_grey))\n",
    "    freq_array = np.log(abs(freq_array))\n",
    "    freq_array = np.floor(freq_array * 255 / freq_array.max()).astype(np.uint8)\n",
    "    freq_image = Image.fromarray(freq_array, 'L')\n",
    "\n",
    "    # Save FFT image\n",
    "    freq_path = os.path.join(freqs_dir, f\"{idx}.jpg\")\n",
    "    freq_image.save(freq_path)"
   ]
  }
 ],
 "metadata": {
  "kernelspec": {
   "display_name": "Python 3",
   "language": "python",
   "name": "python3"
  },
  "language_info": {
   "codemirror_mode": {
    "name": "ipython",
    "version": 3
   },
   "file_extension": ".py",
   "mimetype": "text/x-python",
   "name": "python",
   "nbconvert_exporter": "python",
   "pygments_lexer": "ipython3",
   "version": "3.11.1"
  },
  "orig_nbformat": 4,
  "vscode": {
   "interpreter": {
    "hash": "2236c9fa90506e5feb294f3f3c710ff589142236348e2b6f694d3535f32852cc"
   }
  }
 },
 "nbformat": 4,
 "nbformat_minor": 2
}
